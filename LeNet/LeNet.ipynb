{
 "cells": [
  {
   "cell_type": "markdown",
   "metadata": {
    "vscode": {
     "languageId": "plaintext"
    }
   },
   "source": [
    "# LeNet\n",
    "\n",
    "LeNet, developed by Yann LeCun and his team, is one of the earliest convolutional neural networks (CNNs). It was designed for handwritten digit recognition, particularly for tasks like recognizing digits in postal codes and bank checks (e.g., the MNIST dataset).\n",
    "\n",
    "LeNet-5 is the most well-known and impactful version in the LeNet family. It was the first CNN designed for large-scale digit classification tasks. It introduced a structured combination of convolutional layers, pooling layers, and fully connected layers. LeNet-5 was specifically designed to handle datasets like MNIST effectively, demonstrating that CNNs could scale to larger, practical problems. It set the blueprint for many modern CNN architectures and was fully trainable using gradient-based optimization.\n",
    "\n",
    "The figure below depicts the architecture:\n",
    "\n",
    "![LeNet-5 Architecture](LeNet5_architecture.jpeg)\n",
    "\n",
    "*Figure: LeNet-5 architecture. Source: [Siddhesh Bangar](https://medium.com/@siddheshb008/lenet-5-architecture-explained-3b559cb2d52b).*\n",
    "\n",
    "The modern adaptation diverges slightly from the original to reflect modern best practices:\n",
    " \n",
    "- __ReLU Activation__: Reduces vanishing gradient issues.\n",
    "- __Fixed Pooling__: Simplifies training and implementation.\n",
    "- __Flattened Input Adjustment__: Matches layer dimensions without strict adherence to original design constraints.\n"
   ]
  },
  {
   "cell_type": "markdown",
   "metadata": {},
   "source": [
    "## LeNet-5 Architecture\n",
    "\n",
    "### Input\n",
    "- **Size:** 32x32 grayscale image (1 channel)\n",
    "\n",
    "---\n",
    "\n",
    "### Convolutional Layers\n",
    "1. **Conv1:**\n",
    "   - **Input:** (1, 32, 32)\n",
    "   - **Layer:** Convolutional\n",
    "   - **Output:** (6, 32, 32)\n",
    "   - **Filter size:** 5x5\n",
    "   - **Stride:** 1\n",
    "   - **Padding:** 2\n",
    "   - **Activation:** ReLU\n",
    "\n",
    "2. **Pooling1:**\n",
    "   - **Input:** (6, 32, 32)\n",
    "   - **Layer:** Average Pooling\n",
    "   - **Output:** (6, 16, 16)\n",
    "   - **Filter size:** 2x2\n",
    "   - **Stride:** 2\n",
    "\n",
    "3. **Conv2:**\n",
    "   - **Input:** (6, 16, 16)\n",
    "   - **Layer:** Convolutional\n",
    "   - **Output:** (16, 12, 12)\n",
    "   - **Filter size:** 5x5\n",
    "   - **Stride:** 1\n",
    "   - **Padding:** 0\n",
    "   - **Activation:** ReLU\n",
    "\n",
    "4. **Pooling2:**\n",
    "   - **Input:** (16, 12, 12)\n",
    "   - **Layer:** Average Pooling\n",
    "   - **Output:** (16, 6, 6)\n",
    "   - **Filter size:** 2x2\n",
    "   - **Stride:** 2\n",
    "\n",
    "---\n",
    "\n",
    "### Fully Connected Layers\n",
    "1. **FC1:**\n",
    "   - **Input:** Flattened (16 * 6 * 6 = 576)\n",
    "   - **Layer:** Fully Connected\n",
    "   - **Output:** 120\n",
    "   - **Activation:** ReLU\n",
    "\n",
    "2. **FC2:**\n",
    "   - **Input:** 120\n",
    "   - **Layer:** Fully Connected\n",
    "   - **Output:** 84\n",
    "   - **Activation:** ReLU\n",
    "\n",
    "3. **FC3 (Output Layer):**\n",
    "   - **Input:** 84\n",
    "   - **Layer:** Fully Connected\n",
    "   - **Output:** 10 (number of classes)\n",
    "   - **Activation:** None (logits)\n",
    "\n",
    "---\n",
    "\n",
    "### Summary\n",
    "- **Total Parameters:**\n",
    "  - Convolutional Layers: Learnable filters\n",
    "  - Fully Connected Layers: Dense connections\n",
    "- **Designed for:** Digit classification (e.g., MNIST dataset)\n",
    "- **Pooling Method:** Average Pooling (used instead of Max Pooling, as per the original paper)\n",
    "- **Significance:** Laid the foundation for modern CNN architectures."
   ]
  },
  {
   "cell_type": "markdown",
   "metadata": {},
   "source": [
    "## Imports"
   ]
  },
  {
   "cell_type": "code",
   "execution_count": 14,
   "metadata": {},
   "outputs": [],
   "source": [
    "import torch\n",
    "import torch.nn as nn\n",
    "import torch.nn.functional as F\n",
    "import torchvision\n",
    "import torchvision.transforms as transforms\n",
    "import matplotlib.pyplot as plt\n",
    "import numpy as np\n",
    "import platform\n",
    "from tqdm import tqdm"
   ]
  },
  {
   "cell_type": "markdown",
   "metadata": {},
   "source": [
    "### Check and Setup CUDA"
   ]
  },
  {
   "cell_type": "code",
   "execution_count": 15,
   "metadata": {},
   "outputs": [
    {
     "name": "stdout",
     "output_type": "stream",
     "text": [
      "cuda\n"
     ]
    }
   ],
   "source": [
    "if platform.system() == \"Darwin\" and platform.machine().startswith(\"arm\"):\n",
    "    DEVICE = torch.device(\"mps\" if torch.backends.mps.is_available() else \"cpu\")\n",
    "else:\n",
    "    DEVICE = torch.device(\"cuda\" if torch.cuda.is_available() else \"cpu\")\n",
    "\n",
    "print(DEVICE)"
   ]
  },
  {
   "cell_type": "markdown",
   "metadata": {},
   "source": [
    "### Config"
   ]
  },
  {
   "cell_type": "code",
   "execution_count": 16,
   "metadata": {},
   "outputs": [],
   "source": [
    "EPOCHS = 100\n",
    "BATCH_SIZE = 32\n",
    "LEARNING_RATE = 0.001"
   ]
  },
  {
   "cell_type": "code",
   "execution_count": 17,
   "metadata": {},
   "outputs": [],
   "source": [
    "transform = transforms.Compose([transforms.Resize((32, 32)), transforms.ToTensor()])"
   ]
  },
  {
   "cell_type": "code",
   "execution_count": 18,
   "metadata": {},
   "outputs": [],
   "source": [
    "train_dataset = torchvision.datasets.MNIST(root='./data', train=True,\n",
    "                                        download=True, transform=transform)\n",
    "\n",
    "test_dataset = torchvision.datasets.MNIST(root='./data', train=False,\n",
    "                                       download=True, transform=transform)\n",
    "\n",
    "train_loader = torch.utils.data.DataLoader(train_dataset, batch_size=BATCH_SIZE,\n",
    "                                          shuffle=True)\n",
    "\n",
    "test_loader = torch.utils.data.DataLoader(test_dataset, batch_size=BATCH_SIZE,\n",
    "                                         shuffle=False)\n",
    "\n",
    "classes = [0, 1, 2, 3, 4, 5, 6, 7, 8, 9]\n"
   ]
  },
  {
   "cell_type": "code",
   "execution_count": 19,
   "metadata": {},
   "outputs": [],
   "source": [
    "def imshow(img):\n",
    "    img = img / 2 + 0.5  # unnormalize\n",
    "    npimg = img.numpy()\n",
    "    plt.imshow(np.transpose(npimg, (1, 2, 0)))\n",
    "    plt.show()\n"
   ]
  },
  {
   "cell_type": "code",
   "execution_count": 20,
   "metadata": {},
   "outputs": [
    {
     "data": {
      "image/png": "[encoded data removed]",
      "text/plain": [
       "<Figure size 640x480 with 1 Axes>"
      ]
     },
     "metadata": {},
     "output_type": "display_data"
    }
   ],
   "source": [
    "dataiter = iter(train_loader)\n",
    "images, labels = next(dataiter)\n",
    "imshow(torchvision.utils.make_grid(images))\n"
   ]
  },
  {
   "cell_type": "markdown",
   "metadata": {},
   "source": [
    "### CNN Model"
   ]
  },
  {
   "cell_type": "code",
   "execution_count": 21,
   "metadata": {},
   "outputs": [],
   "source": [
    "class LeNet5(nn.Module):\n",
    "    def __init__(self, num_classes=10):\n",
    "        super(LeNet5, self).__init__()\n",
    "\n",
    "        self.conv_layers = nn.Sequential(\n",
    "            nn.Conv2d(1, 6, 5, 1, 2),\n",
    "            nn.ReLU(),\n",
    "            nn.AvgPool2d(2, 2),\n",
    "            nn.Conv2d(6, 16, 5, 1, 0),\n",
    "            nn.ReLU(),\n",
    "            nn.AvgPool2d(2, 2)\n",
    "        )\n",
    "        self.fc_layers = nn.Sequential(\n",
    "            nn.Linear(16 * 6 * 6, 120),\n",
    "            nn.ReLU(),\n",
    "            nn.Linear(120, 84),\n",
    "            nn.ReLU(),\n",
    "            nn.Linear(84, num_classes)\n",
    "        )\n",
    "\n",
    "    def forward(self, x):\n",
    "        x = self.conv_layers(x)\n",
    "        x = x.view(x.size(0), -1)  # Flatten\n",
    "        x = self.fc_layers(x)\n",
    "        return x"
   ]
  },
  {
   "cell_type": "code",
   "execution_count": 22,
   "metadata": {},
   "outputs": [],
   "source": [
    "model = LeNet5().to(DEVICE)\n",
    "criterion = nn.CrossEntropyLoss()\n",
    "optimizer = torch.optim.Adam(model.parameters(), lr=LEARNING_RATE)\n",
    "\n",
    "n_total_steps = len(train_loader)"
   ]
  },
  {
   "cell_type": "code",
   "execution_count": 23,
   "metadata": {},
   "outputs": [
    {
     "name": "stderr",
     "output_type": "stream",
     "text": [
      "100%|██████████| 100/100 [15:22<00:00,  9.23s/it]\n"
     ]
    }
   ],
   "source": [
    "for epoch in tqdm(range(EPOCHS)):\n",
    "    for i, (images, labels) in enumerate(train_loader):\n",
    "        images = images.to(DEVICE)\n",
    "        labels = labels.to(DEVICE)\n",
    "\n",
    "        # Forward pass\n",
    "        outputs = model(images)\n",
    "        loss = criterion(outputs, labels)\n",
    "\n",
    "        # Backward and optimize\n",
    "        optimizer.zero_grad()\n",
    "        loss.backward()\n",
    "        optimizer.step()\n",
    "\n",
    "        if (i+1) % 2000 == 0:\n",
    "            print (f'Epoch [{epoch+1}/{EPOCHS}], Step [{i+1}/{n_total_steps}], Loss: {loss.item():.4f}')"
   ]
  },
  {
   "cell_type": "code",
   "execution_count": 24,
   "metadata": {},
   "outputs": [
    {
     "name": "stdout",
     "output_type": "stream",
     "text": [
      "Finished Training\n"
     ]
    }
   ],
   "source": [
    "print('Finished Training')\n",
    "PATH = './LeNet5.pth'\n",
    "torch.save(model.state_dict(), PATH)\n"
   ]
  },
  {
   "cell_type": "code",
   "execution_count": 25,
   "metadata": {},
   "outputs": [
    {
     "name": "stdout",
     "output_type": "stream",
     "text": [
      "Accuracy of the network: 99.23 %\n",
      "Accuracy of 0: 98.99328859060402 %\n",
      "Accuracy of 1: 99.44289693593315 %\n",
      "Accuracy of 2: 99.44289693593315 %\n",
      "Accuracy of 3: 99.05660377358491 %\n",
      "Accuracy of 4: 100.0 %\n",
      "Accuracy of 5: 97.6 %\n",
      "Accuracy of 6: 98.93617021276596 %\n",
      "Accuracy of 7: 99.67637540453075 %\n",
      "Accuracy of 8: 99.3006993006993 %\n",
      "Accuracy of 9: 99.69788519637463 %\n"
     ]
    }
   ],
   "source": [
    "with torch.no_grad():\n",
    "    n_correct = 0\n",
    "    n_samples = 0\n",
    "    n_class_correct = [0 for i in range(10)]\n",
    "    n_class_samples = [0 for i in range(10)]\n",
    "    for images, labels in test_loader:\n",
    "        images = images.to(DEVICE)\n",
    "        labels = labels.to(DEVICE)\n",
    "        outputs = model(images)\n",
    "        # max returns (value ,index)\n",
    "        _, predicted = torch.max(outputs, 1)\n",
    "        n_samples += labels.size(0)\n",
    "        n_correct += (predicted == labels).sum().item()\n",
    "        \n",
    "        for i in range(10):\n",
    "            label = labels[i]\n",
    "            pred = predicted[i]\n",
    "            if (label == pred):\n",
    "                n_class_correct[label] += 1\n",
    "            n_class_samples[label] += 1\n",
    "\n",
    "    acc = 100.0 * n_correct / n_samples\n",
    "    print(f'Accuracy of the network: {acc} %')\n",
    "\n",
    "    for i in range(10):\n",
    "        acc = 100.0 * n_class_correct[i] / n_class_samples[i]\n",
    "        print(f'Accuracy of {classes[i]}: {acc} %')\n"
   ]
  }
 ],
 "metadata": {
  "kernelspec": {
   "display_name": "Python 3 (ipykernel)",
   "language": "python",
   "name": "python3"
  },
  "language_info": {
   "codemirror_mode": {
    "name": "ipython",
    "version": 3
   },
   "file_extension": ".py",
   "mimetype": "text/x-python",
   "name": "python",
   "nbconvert_exporter": "python",
   "pygments_lexer": "ipython3",
   "version": "3.8.6"
  }
 },
 "nbformat": 4,
 "nbformat_minor": 2
}
